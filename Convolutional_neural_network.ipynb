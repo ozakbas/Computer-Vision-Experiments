{
  "nbformat": 4,
  "nbformat_minor": 0,
  "metadata": {
    "accelerator": "GPU",
    "colab": {
      "name": "Convolutional_neural_network.ipynb",
      "provenance": [],
      "collapsed_sections": [],
      "include_colab_link": true
    },
    "kernelspec": {
      "display_name": "Python 3",
      "name": "python3"
    },
    "language_info": {
      "name": "python"
    }
  },
  "cells": [
    {
      "cell_type": "markdown",
      "metadata": {
        "id": "view-in-github",
        "colab_type": "text"
      },
      "source": [
        "<a href=\"https://colab.research.google.com/github/ozakbas/Computer-Vision-Experiments/blob/main/Convolutional_neural_network.ipynb\" target=\"_parent\"><img src=\"https://colab.research.google.com/assets/colab-badge.svg\" alt=\"Open In Colab\"/></a>"
      ]
    },
    {
      "cell_type": "code",
      "metadata": {
        "id": "XkQDzvQn8ZOt",
        "colab": {
          "base_uri": "https://localhost:8080/"
        },
        "outputId": "ce796bad-1ced-4e70-867e-790557967d1d"
      },
      "source": [
        "from google.colab import drive\n",
        "drive.mount('/content/drive')"
      ],
      "execution_count": null,
      "outputs": [
        {
          "output_type": "stream",
          "text": [
            "Mounted at /content/drive\n"
          ],
          "name": "stdout"
        }
      ]
    },
    {
      "cell_type": "markdown",
      "metadata": {
        "id": "hb2ljn5tHvky"
      },
      "source": [
        "# Train model"
      ]
    },
    {
      "cell_type": "code",
      "metadata": {
        "id": "jyHVun7iykw9"
      },
      "source": [
        "!unzip \"/content/drive/MyDrive/train_data.zip\" -d \"/content\""
      ],
      "execution_count": null,
      "outputs": []
    },
    {
      "cell_type": "code",
      "metadata": {
        "id": "yaHYPeosQx2B"
      },
      "source": [
        "n_batches = 32"
      ],
      "execution_count": null,
      "outputs": []
    },
    {
      "cell_type": "code",
      "metadata": {
        "colab": {
          "base_uri": "https://localhost:8080/"
        },
        "id": "5WP9JSxWcrQQ",
        "outputId": "466d6ed1-3d3f-495d-eebf-063d04af1a7c"
      },
      "source": [
        "from keras.preprocessing.image import ImageDataGenerator\n",
        "\n",
        "TRAIN_DIR = '/content/train_data'\n",
        "\n",
        "train_generator = ImageDataGenerator(rescale=1./255, \n",
        "                                     validation_split=0.2,\n",
        "                                     rotation_range=5,\n",
        "                                     width_shift_range=0.1,\n",
        "                                     height_shift_range=0.1,\n",
        "                                     shear_range=0.1,\n",
        "                                     brightness_range=(0.5,1.5)       \n",
        "                                     )\n",
        "\n",
        "\n",
        "train_batches = train_generator.flow_from_directory(\n",
        "                                              TRAIN_DIR, \n",
        "                                              class_mode=\"categorical\", \n",
        "                                              batch_size=n_batches, \n",
        "                                              target_size=(100,100),\n",
        "                                              color_mode='grayscale',\n",
        "                                              shuffle=True,\n",
        "                                              seed=10,\n",
        "                                              subset='training'\n",
        "                                              \n",
        "                                              )\n",
        "val_batches = train_generator.flow_from_directory(\n",
        "                                              TRAIN_DIR, \n",
        "                                              class_mode=\"categorical\", \n",
        "                                              batch_size=n_batches, \n",
        "                                              target_size=(100,100),\n",
        "                                              color_mode='grayscale',\n",
        "                                              shuffle=True,\n",
        "                                              seed=10,\n",
        "                                              subset='validation'\n",
        "                                              )"
      ],
      "execution_count": null,
      "outputs": [
        {
          "output_type": "stream",
          "text": [
            "Found 23200 images belonging to 29 classes.\n",
            "Found 5800 images belonging to 29 classes.\n"
          ],
          "name": "stdout"
        }
      ]
    },
    {
      "cell_type": "code",
      "metadata": {
        "colab": {
          "base_uri": "https://localhost:8080/"
        },
        "id": "lwVM6AQ46hnc",
        "outputId": "87fb460f-2a64-4cad-ada8-5051daae8edf"
      },
      "source": [
        "from keras.models import Sequential\n",
        "from keras.layers import Dense, Conv2D, MaxPooling2D, Flatten, Dropout\n",
        "\n",
        "model = Sequential([\n",
        "  Conv2D(filters=64, kernel_size=3, strides=1, activation='relu', input_shape=(100,100,1)),\n",
        "  MaxPooling2D(pool_size=(2, 2), strides=1, padding='same'),\n",
        "  Conv2D(filters=128, kernel_size=3, strides=1, activation='relu'),\n",
        "  MaxPooling2D(pool_size=(2, 2), strides=1, padding='same'),\n",
        "  Conv2D(filters=128, kernel_size=3, strides=2, activation='relu'),\n",
        "  MaxPooling2D(pool_size=(2, 2), strides=2, padding='same'),\n",
        "  Conv2D(filters=128, kernel_size=3, strides=2, activation='relu'),\n",
        "  MaxPooling2D(pool_size=(2, 2), strides=2, padding='same'),\n",
        "  Conv2D(filters=32, kernel_size=3, strides=2, activation='relu'),\n",
        "  MaxPooling2D(pool_size=(2, 2), strides=2, padding='same'),\n",
        "  Flatten(),\n",
        "  Dense(29, activation='softmax')\n",
        "])\n",
        "\n",
        "model.summary()"
      ],
      "execution_count": null,
      "outputs": [
        {
          "output_type": "stream",
          "text": [
            "Model: \"sequential_4\"\n",
            "_________________________________________________________________\n",
            "Layer (type)                 Output Shape              Param #   \n",
            "=================================================================\n",
            "conv2d_20 (Conv2D)           (None, 98, 98, 64)        640       \n",
            "_________________________________________________________________\n",
            "max_pooling2d_20 (MaxPooling (None, 98, 98, 64)        0         \n",
            "_________________________________________________________________\n",
            "conv2d_21 (Conv2D)           (None, 96, 96, 128)       73856     \n",
            "_________________________________________________________________\n",
            "max_pooling2d_21 (MaxPooling (None, 96, 96, 128)       0         \n",
            "_________________________________________________________________\n",
            "conv2d_22 (Conv2D)           (None, 47, 47, 128)       147584    \n",
            "_________________________________________________________________\n",
            "max_pooling2d_22 (MaxPooling (None, 24, 24, 128)       0         \n",
            "_________________________________________________________________\n",
            "conv2d_23 (Conv2D)           (None, 11, 11, 128)       147584    \n",
            "_________________________________________________________________\n",
            "max_pooling2d_23 (MaxPooling (None, 6, 6, 128)         0         \n",
            "_________________________________________________________________\n",
            "conv2d_24 (Conv2D)           (None, 2, 2, 32)          36896     \n",
            "_________________________________________________________________\n",
            "max_pooling2d_24 (MaxPooling (None, 1, 1, 32)          0         \n",
            "_________________________________________________________________\n",
            "flatten_4 (Flatten)          (None, 32)                0         \n",
            "_________________________________________________________________\n",
            "dense_4 (Dense)              (None, 29)                957       \n",
            "=================================================================\n",
            "Total params: 407,517\n",
            "Trainable params: 407,517\n",
            "Non-trainable params: 0\n",
            "_________________________________________________________________\n"
          ],
          "name": "stdout"
        }
      ]
    },
    {
      "cell_type": "code",
      "metadata": {
        "id": "ShFVFXFuswl2"
      },
      "source": [
        "import os\n",
        "from keras.callbacks import ModelCheckpoint\n",
        "\n",
        "model.compile(optimizer='adam', loss='categorical_crossentropy', metrics=['accuracy'])\n",
        "\n",
        "steps_per_epoch = int(23200 / n_batches)\n",
        "validation_steps = int(5800 / n_batches)\n",
        "'''\n",
        "checkpoint_path = \"cp.ckpt\"\n",
        "checkpoint_dir = os.path.dirname(checkpoint_path)\n",
        "\n",
        "\n",
        "# Create a callback that saves the model's weights\n",
        "cp_callback = ModelCheckpoint(filepath=checkpoint_path,\n",
        "                                                 save_weights_only=True,\n",
        "                                                 verbose=1)\n",
        "'''\n",
        "history = model.fit(\n",
        "    train_batches,\n",
        "    steps_per_epoch=steps_per_epoch,\n",
        "    epochs=50,\n",
        "    validation_data=val_batches,\n",
        "    validation_steps=validation_steps,\n",
        "    #callbacks=[cp_callback]\n",
        "    )\n",
        "\n",
        "model.save('my_model.h5')"
      ],
      "execution_count": null,
      "outputs": []
    },
    {
      "cell_type": "code",
      "metadata": {
        "colab": {
          "base_uri": "https://localhost:8080/",
          "height": 17
        },
        "id": "sXUzWWGewrDH",
        "outputId": "2a799783-f196-41dd-9dc1-5b776589479d"
      },
      "source": [
        "from google.colab import files\n",
        "files.download('my_model.h5')"
      ],
      "execution_count": null,
      "outputs": [
        {
          "output_type": "display_data",
          "data": {
            "application/javascript": [
              "\n",
              "    async function download(id, filename, size) {\n",
              "      if (!google.colab.kernel.accessAllowed) {\n",
              "        return;\n",
              "      }\n",
              "      const div = document.createElement('div');\n",
              "      const label = document.createElement('label');\n",
              "      label.textContent = `Downloading \"${filename}\": `;\n",
              "      div.appendChild(label);\n",
              "      const progress = document.createElement('progress');\n",
              "      progress.max = size;\n",
              "      div.appendChild(progress);\n",
              "      document.body.appendChild(div);\n",
              "\n",
              "      const buffers = [];\n",
              "      let downloaded = 0;\n",
              "\n",
              "      const channel = await google.colab.kernel.comms.open(id);\n",
              "      // Send a message to notify the kernel that we're ready.\n",
              "      channel.send({})\n",
              "\n",
              "      for await (const message of channel.messages) {\n",
              "        // Send a message to notify the kernel that we're ready.\n",
              "        channel.send({})\n",
              "        if (message.buffers) {\n",
              "          for (const buffer of message.buffers) {\n",
              "            buffers.push(buffer);\n",
              "            downloaded += buffer.byteLength;\n",
              "            progress.value = downloaded;\n",
              "          }\n",
              "        }\n",
              "      }\n",
              "      const blob = new Blob(buffers, {type: 'application/binary'});\n",
              "      const a = document.createElement('a');\n",
              "      a.href = window.URL.createObjectURL(blob);\n",
              "      a.download = filename;\n",
              "      div.appendChild(a);\n",
              "      a.click();\n",
              "      div.remove();\n",
              "    }\n",
              "  "
            ],
            "text/plain": [
              "<IPython.core.display.Javascript object>"
            ]
          },
          "metadata": {
            "tags": []
          }
        },
        {
          "output_type": "display_data",
          "data": {
            "application/javascript": [
              "download(\"download_f3b0729e-2631-49d6-b943-a4b636ce587e\", \"my_model.h5\", 4953376)"
            ],
            "text/plain": [
              "<IPython.core.display.Javascript object>"
            ]
          },
          "metadata": {
            "tags": []
          }
        }
      ]
    },
    {
      "cell_type": "code",
      "metadata": {
        "id": "z-6musw7GrPE"
      },
      "source": [
        "import matplotlib.pyplot as plt \n",
        "plt.plot(history.history['accuracy'], label='accuracy')\n",
        "plt.plot(history.history['val_accuracy'], label = 'val_accuracy')\n",
        "plt.xlabel('Epoch')\n",
        "plt.ylabel('Accuracy')\n",
        "plt.ylim([0.5, 1])\n",
        "plt.legend(loc='lower right')"
      ],
      "execution_count": null,
      "outputs": []
    },
    {
      "cell_type": "markdown",
      "metadata": {
        "id": "6A0Br2CJeVbe"
      },
      "source": [
        "# Load trained model"
      ]
    },
    {
      "cell_type": "code",
      "metadata": {
        "id": "GXmpLvXDKbDs"
      },
      "source": [
        "from tensorflow.keras.models import load_model\n",
        "\n",
        "model = load_model('my_model.h5')"
      ],
      "execution_count": null,
      "outputs": []
    },
    {
      "cell_type": "markdown",
      "metadata": {
        "id": "_H_HL8qvl23e"
      },
      "source": [
        "# Test"
      ]
    },
    {
      "cell_type": "code",
      "metadata": {
        "id": "HkZXKQk--BMk"
      },
      "source": [
        "!unzip \"/content/drive/MyDrive/nonlabeled-test2.zip\" -d \"/content\""
      ],
      "execution_count": null,
      "outputs": []
    },
    {
      "cell_type": "code",
      "metadata": {
        "id": "ycKmsIbUpEQH"
      },
      "source": [
        "from keras.preprocessing.image import load_img, img_to_array\n",
        "import numpy as np\n",
        "import os\n",
        "\n",
        "TEST_DIR = '/content/nonlabeled-test2'\n",
        "\n",
        "test_dataset = []\n",
        "\n",
        "for index, filename in enumerate(sorted(os.listdir(TEST_DIR), key=lambda filename: int(filename.split('.')[0]) )):\n",
        "  image = load_img(TEST_DIR + \"/\" + filename, target_size=(100,100), color_mode='grayscale')\n",
        "  input_arr = img_to_array(image)\n",
        "  input_arr /= 255.\n",
        "  test_dataset.append(input_arr)\n",
        "\n",
        "test_dataset = np.array(test_dataset)\n"
      ],
      "execution_count": null,
      "outputs": []
    },
    {
      "cell_type": "code",
      "metadata": {
        "colab": {
          "base_uri": "https://localhost:8080/"
        },
        "id": "-tlzqQAa_86g",
        "outputId": "896b9e13-8574-40a8-c5ee-16c3285b0a20"
      },
      "source": [
        "import numpy as np\n",
        "from numpy import load \n",
        "labels = load('/content/drive/MyDrive/CS412_DATA/labels.npy')\n",
        "np.unique(labels)"
      ],
      "execution_count": null,
      "outputs": [
        {
          "output_type": "execute_result",
          "data": {
            "text/plain": [
              "array(['A', 'B', 'C', 'D', 'E', 'F', 'G', 'H', 'I', 'J', 'K', 'L', 'M',\n",
              "       'N', 'O', 'P', 'Q', 'R', 'S', 'T', 'U', 'V', 'W', 'X', 'Y', 'Z',\n",
              "       'del', 'nothing', 'space'], dtype='<U7')"
            ]
          },
          "metadata": {
            "tags": []
          },
          "execution_count": 128
        }
      ]
    },
    {
      "cell_type": "code",
      "metadata": {
        "id": "cQdoWha-D0pK"
      },
      "source": [
        "from sklearn.preprocessing import LabelBinarizer\n",
        "import pandas as pd\n",
        "\n",
        "encoder = LabelBinarizer()\n",
        "encoded_labels = encoder.fit_transform(labels)\n",
        "encoded_labels = encoded_labels.astype(float)"
      ],
      "execution_count": null,
      "outputs": []
    },
    {
      "cell_type": "code",
      "metadata": {
        "colab": {
          "base_uri": "https://localhost:8080/"
        },
        "id": "-sVYh2rTFp7D",
        "outputId": "46dcad6f-2156-4e12-e7df-450bc6574c77"
      },
      "source": [
        "test_loss, test_acc = model.evaluate(test_dataset,  encoded_labels, verbose=2)"
      ],
      "execution_count": null,
      "outputs": [
        {
          "output_type": "stream",
          "text": [
            "454/454 - 10s - loss: 0.0336 - accuracy: 0.9884\n"
          ],
          "name": "stdout"
        }
      ]
    },
    {
      "cell_type": "code",
      "metadata": {
        "colab": {
          "base_uri": "https://localhost:8080/"
        },
        "id": "6UOCrg7PQNpT",
        "outputId": "cf00ce1d-4d02-47b4-ccd5-2594faf187cb"
      },
      "source": [
        "pred = np.argmax(model.predict(test_dataset), axis=-1)\n",
        "label = np.argmax(encoded_labels,axis = 1)\n",
        "\n",
        "print(pred) \n",
        "print(label)"
      ],
      "execution_count": null,
      "outputs": [
        {
          "output_type": "stream",
          "text": [
            "[ 9 22  9 ... 19 25 20]\n",
            "[ 9 22  9 ... 19 25 20]\n"
          ],
          "name": "stdout"
        }
      ]
    },
    {
      "cell_type": "code",
      "metadata": {
        "id": "wmQRDu9JJanj"
      },
      "source": [
        "categories = ['A' ,'B' ,'C' ,'D' ,'E' ,'F' ,'G' ,'H' ,'I' ,'J' ,'K' ,'L' ,'M' ,'N' ,'O' ,'P' ,'Q' ,'R',\n",
        "              'S' ,'T' , 'U' ,'V' ,'W' ,'X' ,'Y' ,'Z' , 'del', 'nothing', 'space']\n",
        "categories = np.array(categories)\n",
        "\n",
        "convert = lambda x: categories[x]\n",
        "reversed_labels = convert(pred)"
      ],
      "execution_count": null,
      "outputs": []
    },
    {
      "cell_type": "code",
      "metadata": {
        "colab": {
          "base_uri": "https://localhost:8080/",
          "height": 407
        },
        "id": "1JraBFKGJyGw",
        "outputId": "d227262c-9530-49d8-bf9d-33bd605725d2"
      },
      "source": [
        "import pandas as pd\n",
        "\n",
        "df = pd.DataFrame()\n",
        "df['Prediction'] = reversed_labels\n",
        "df['Id'] = df.index\n",
        "df = df[df.columns[::-1]]\n",
        "df"
      ],
      "execution_count": null,
      "outputs": [
        {
          "output_type": "execute_result",
          "data": {
            "text/html": [
              "<div>\n",
              "<style scoped>\n",
              "    .dataframe tbody tr th:only-of-type {\n",
              "        vertical-align: middle;\n",
              "    }\n",
              "\n",
              "    .dataframe tbody tr th {\n",
              "        vertical-align: top;\n",
              "    }\n",
              "\n",
              "    .dataframe thead th {\n",
              "        text-align: right;\n",
              "    }\n",
              "</style>\n",
              "<table border=\"1\" class=\"dataframe\">\n",
              "  <thead>\n",
              "    <tr style=\"text-align: right;\">\n",
              "      <th></th>\n",
              "      <th>Id</th>\n",
              "      <th>Prediction</th>\n",
              "    </tr>\n",
              "  </thead>\n",
              "  <tbody>\n",
              "    <tr>\n",
              "      <th>0</th>\n",
              "      <td>0</td>\n",
              "      <td>J</td>\n",
              "    </tr>\n",
              "    <tr>\n",
              "      <th>1</th>\n",
              "      <td>1</td>\n",
              "      <td>W</td>\n",
              "    </tr>\n",
              "    <tr>\n",
              "      <th>2</th>\n",
              "      <td>2</td>\n",
              "      <td>J</td>\n",
              "    </tr>\n",
              "    <tr>\n",
              "      <th>3</th>\n",
              "      <td>3</td>\n",
              "      <td>M</td>\n",
              "    </tr>\n",
              "    <tr>\n",
              "      <th>4</th>\n",
              "      <td>4</td>\n",
              "      <td>M</td>\n",
              "    </tr>\n",
              "    <tr>\n",
              "      <th>...</th>\n",
              "      <td>...</td>\n",
              "      <td>...</td>\n",
              "    </tr>\n",
              "    <tr>\n",
              "      <th>14495</th>\n",
              "      <td>14495</td>\n",
              "      <td>Q</td>\n",
              "    </tr>\n",
              "    <tr>\n",
              "      <th>14496</th>\n",
              "      <td>14496</td>\n",
              "      <td>F</td>\n",
              "    </tr>\n",
              "    <tr>\n",
              "      <th>14497</th>\n",
              "      <td>14497</td>\n",
              "      <td>T</td>\n",
              "    </tr>\n",
              "    <tr>\n",
              "      <th>14498</th>\n",
              "      <td>14498</td>\n",
              "      <td>Z</td>\n",
              "    </tr>\n",
              "    <tr>\n",
              "      <th>14499</th>\n",
              "      <td>14499</td>\n",
              "      <td>U</td>\n",
              "    </tr>\n",
              "  </tbody>\n",
              "</table>\n",
              "<p>14500 rows × 2 columns</p>\n",
              "</div>"
            ],
            "text/plain": [
              "          Id Prediction\n",
              "0          0          J\n",
              "1          1          W\n",
              "2          2          J\n",
              "3          3          M\n",
              "4          4          M\n",
              "...      ...        ...\n",
              "14495  14495          Q\n",
              "14496  14496          F\n",
              "14497  14497          T\n",
              "14498  14498          Z\n",
              "14499  14499          U\n",
              "\n",
              "[14500 rows x 2 columns]"
            ]
          },
          "metadata": {
            "tags": []
          },
          "execution_count": 137
        }
      ]
    },
    {
      "cell_type": "code",
      "metadata": {
        "colab": {
          "base_uri": "https://localhost:8080/",
          "height": 17
        },
        "id": "IjOvmNOzKVV1",
        "outputId": "cf30e8d8-2f9e-46b6-9758-200982cfa6d6"
      },
      "source": [
        "df.to_csv('submission.csv', index=False)\n",
        "from google.colab import files\n",
        "files.download('submission.csv')"
      ],
      "execution_count": null,
      "outputs": [
        {
          "output_type": "display_data",
          "data": {
            "application/javascript": [
              "\n",
              "    async function download(id, filename, size) {\n",
              "      if (!google.colab.kernel.accessAllowed) {\n",
              "        return;\n",
              "      }\n",
              "      const div = document.createElement('div');\n",
              "      const label = document.createElement('label');\n",
              "      label.textContent = `Downloading \"${filename}\": `;\n",
              "      div.appendChild(label);\n",
              "      const progress = document.createElement('progress');\n",
              "      progress.max = size;\n",
              "      div.appendChild(progress);\n",
              "      document.body.appendChild(div);\n",
              "\n",
              "      const buffers = [];\n",
              "      let downloaded = 0;\n",
              "\n",
              "      const channel = await google.colab.kernel.comms.open(id);\n",
              "      // Send a message to notify the kernel that we're ready.\n",
              "      channel.send({})\n",
              "\n",
              "      for await (const message of channel.messages) {\n",
              "        // Send a message to notify the kernel that we're ready.\n",
              "        channel.send({})\n",
              "        if (message.buffers) {\n",
              "          for (const buffer of message.buffers) {\n",
              "            buffers.push(buffer);\n",
              "            downloaded += buffer.byteLength;\n",
              "            progress.value = downloaded;\n",
              "          }\n",
              "        }\n",
              "      }\n",
              "      const blob = new Blob(buffers, {type: 'application/binary'});\n",
              "      const a = document.createElement('a');\n",
              "      a.href = window.URL.createObjectURL(blob);\n",
              "      a.download = filename;\n",
              "      div.appendChild(a);\n",
              "      a.click();\n",
              "      div.remove();\n",
              "    }\n",
              "  "
            ],
            "text/plain": [
              "<IPython.core.display.Javascript object>"
            ]
          },
          "metadata": {
            "tags": []
          }
        },
        {
          "output_type": "display_data",
          "data": {
            "application/javascript": [
              "download(\"download_d5a614dd-be50-49f5-a793-a93699d28f49\", \"submission.csv\", 110826)"
            ],
            "text/plain": [
              "<IPython.core.display.Javascript object>"
            ]
          },
          "metadata": {
            "tags": []
          }
        }
      ]
    }
  ]
}