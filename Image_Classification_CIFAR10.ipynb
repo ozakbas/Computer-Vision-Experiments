{
  "nbformat": 4,
  "nbformat_minor": 0,
  "metadata": {
    "colab": {
      "name": "Image-Classification-CIFAR10.ipynb",
      "provenance": [],
      "authorship_tag": "ABX9TyMdJckUmeqmoJS1mVqLtfEX"
    },
    "kernelspec": {
      "name": "python3",
      "display_name": "Python 3"
    },
    "language_info": {
      "name": "python"
    }
  },
  "cells": [
    {
      "cell_type": "markdown",
      "metadata": {
        "id": "ttauz-5fe3TG"
      },
      "source": [
        "#Load the dataset\n",
        "\n",
        "CIFAR10 dataset consists of 50,000 32x32 color training images and 10,000 test images, labeled over 10 categories.\n",
        "\n",
        "x_train, x_test: uint8 arrays of RGB image data with shape (num_samples, 3, 32, 32) \n",
        "\n",
        "y_train, y_test: uint8 arrays of category labels (integers in range 0-9) each with shape (num_samples, 1)."
      ]
    },
    {
      "cell_type": "code",
      "metadata": {
        "colab": {
          "base_uri": "https://localhost:8080/",
          "height": 357
        },
        "id": "G3PBJZMjey4l",
        "outputId": "995df6a8-9f41-407e-e353-380fc5459184"
      },
      "source": [
        "import pandas as pd\n",
        "import numpy as np\n",
        "import matplotlib.pyplot as plt\n",
        "\n",
        "from keras.datasets import cifar10\n",
        "\n",
        "(X_train, y_train), (X_test, y_test) = cifar10.load_data()\n",
        "\n",
        "print(X_train.shape)\n",
        "print(X_test.shape)\n",
        "\n",
        "# Sample image\n",
        "plt.imshow(X_train[100])\n",
        "print(y_train[100])"
      ],
      "execution_count": 1,
      "outputs": [
        {
          "output_type": "stream",
          "text": [
            "Downloading data from https://www.cs.toronto.edu/~kriz/cifar-10-python.tar.gz\n",
            "170500096/170498071 [==============================] - 6s 0us/step\n",
            "(50000, 32, 32, 3)\n",
            "(10000, 32, 32, 3)\n",
            "[8]\n"
          ],
          "name": "stdout"
        },
        {
          "output_type": "display_data",
          "data": {
            "image/png": "[encoded data removed]",
            "text/plain": [
              "<Figure size 432x288 with 1 Axes>"
            ]
          },
          "metadata": {
            "tags": [],
            "needs_background": "light"
          }
        }
      ]
    },
    {
      "cell_type": "markdown",
      "metadata": {
        "id": "ISOL9MGdviyO"
      },
      "source": [
        "# Data splitting"
      ]
    },
    {
      "cell_type": "markdown",
      "metadata": {
        "id": "owrMBS0cW_KB"
      },
      "source": [
        "other than validation set, lets make a much smaller development set since google colab can crash if we use all available RAM"
      ]
    },
    {
      "cell_type": "code",
      "metadata": {
        "id": "JpWxHIeJyBLl"
      },
      "source": [
        "\n",
        "from sklearn.model_selection import train_test_split\n",
        "\n",
        "X_train, X_val, y_train, y_val = train_test_split(X_train, y_train, test_size=0.02, random_state=42)\n",
        "\n",
        "mask = np.random.choice(49000, 500, replace=False)\n",
        "X_dev = X_train[mask]\n",
        "y_dev = y_train[mask]\n"
      ],
      "execution_count": 2,
      "outputs": []
    },
    {
      "cell_type": "code",
      "metadata": {
        "colab": {
          "base_uri": "https://localhost:8080/"
        },
        "id": "qkDxPiVkWVof",
        "outputId": "e0756803-7765-4958-dac5-209995fb97ec"
      },
      "source": [
        "# Reshape the images\n",
        "X_train = np.reshape(X_train, (X_train.shape[0], -1))\n",
        "X_val = np.reshape(X_val, (X_val.shape[0], -1))\n",
        "X_test = np.reshape(X_test, (X_test.shape[0], -1))\n",
        "X_dev = np.reshape(X_dev, (X_dev.shape[0], -1))\n",
        "\n",
        "print('Train data shape: ', X_train.shape)\n",
        "print('Validation data shape: ', X_val.shape)\n",
        "print('Test data shape: ', X_test.shape)\n",
        "print('dev data shape: ', X_dev.shape)"
      ],
      "execution_count": 3,
      "outputs": [
        {
          "output_type": "stream",
          "text": [
            "Train data shape:  (49000, 3072)\n",
            "Validation data shape:  (1000, 3072)\n",
            "Test data shape:  (10000, 3072)\n",
            "dev data shape:  (500, 3072)\n"
          ],
          "name": "stdout"
        }
      ]
    },
    {
      "cell_type": "markdown",
      "metadata": {
        "id": "E36vbzH4g5f5"
      },
      "source": [
        "# Multiclass SVM Loss\n",
        "\n",
        "this loss function performs a sum operation over all the incorrect categories' score where it compares the incorrect categories' score with the correct category score. if the correct score is bigger than the incorrect score by a safe margin (1 in this example) then the asssigned loss is 0 for that particular comparison.\n",
        "\n",
        "Li = sum(max(0, sj-syi + 1)"
      ]
    },
    {
      "cell_type": "code",
      "metadata": {
        "id": "yvw2T9T7odga"
      },
      "source": [
        "# reg: regularization value (to generalize the model)\n",
        "def svm_loss(X, y, W, reg):\n",
        "  num_train = X.shape[0]\n",
        "  loss = 0.0\n",
        "\n",
        "  # initialize the gradient as a zero DxC\n",
        "  dW = np.zeros(W.shape) \n",
        "\n",
        "  # NxC matrix representing class scores for each image\n",
        "  score_matrix = X.dot(W) \n",
        "  correct_class_vector = score_matrix[np.arange(score_matrix.shape[0]), y]\n",
        "\n",
        "  # NxC matrix representing loss incurred from each class for all N images\n",
        "  loss_matrix = np.maximum(0, np.transpose((np.transpose(score_matrix) - correct_class_vector + 1)))\n",
        "  loss_matrix[np.arange(loss_matrix.shape[0]), y] = 0\n",
        "\n",
        "  loss = np.sum(loss_matrix) / loss_matrix.shape[0] + reg * np.sum(W * W)\n",
        "  \n",
        "  loss_binary_matrix = np.where(loss_matrix == 0, 0, 1)\n",
        "  loss_binary_matrix[np.arange(num_train), y] -= np.sum(loss_binary_matrix, axis=1)\n",
        "\n",
        "  dW = (X.transpose()).dot(loss_binary_matrix)\n",
        "  dW = dW/num_train + reg*W\n",
        "\n",
        "  # dw: gradient matrix\n",
        "  return loss, dW"
      ],
      "execution_count": null,
      "outputs": []
    },
    {
      "cell_type": "code",
      "metadata": {
        "id": "56aVaR03wDBI"
      },
      "source": [
        "import time \n",
        "\n",
        "# Initialize the gradient to be a random matrix with small numbers\n",
        "W = np.random.randn(32*32*3, 10) * 0.0001\n",
        "\n",
        "# Get the vectorized loss\n",
        "tic = time.time()\n",
        "loss_vectorized, _ = svm_loss(X_dev, y_dev, W, 0.000005)\n",
        "toc = time.time()\n",
        "print('Vectorized loss: %e computed in %fs' % (loss_vectorized, toc - tic))"
      ],
      "execution_count": null,
      "outputs": []
    }
  ]
}