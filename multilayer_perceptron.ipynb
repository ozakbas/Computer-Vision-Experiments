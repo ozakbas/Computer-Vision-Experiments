{
  "nbformat": 4,
  "nbformat_minor": 0,
  "metadata": {
    "accelerator": "GPU",
    "colab": {
      "name": "multilayer_perceptron.ipynb",
      "provenance": [],
      "collapsed_sections": [
        "Ko3omrGs8GAI"
      ],
      "include_colab_link": true
    },
    "kernelspec": {
      "display_name": "Python 3",
      "name": "python3"
    },
    "language_info": {
      "name": "python"
    }
  },
  "cells": [
    {
      "cell_type": "markdown",
      "metadata": {
        "id": "view-in-github",
        "colab_type": "text"
      },
      "source": [
        "<a href=\"https://colab.research.google.com/github/ozakbas/Computer-Vision-Experiments/blob/main/multilayer_perceptron.ipynb\" target=\"_parent\"><img src=\"https://colab.research.google.com/assets/colab-badge.svg\" alt=\"Open In Colab\"/></a>"
      ]
    },
    {
      "cell_type": "markdown",
      "metadata": {
        "id": "P1PahS-1Ez2j"
      },
      "source": [
        "#1) Preprocessing\n",
        "\n",
        "\n",
        "\n"
      ]
    },
    {
      "cell_type": "code",
      "metadata": {
        "colab": {
          "base_uri": "https://localhost:8080/"
        },
        "id": "ZzZMCgL7c80Y",
        "outputId": "a904b10c-be73-4944-8381-cdb43392b588"
      },
      "source": [
        "from google.colab import drive\n",
        "drive.mount('/content/drive')"
      ],
      "execution_count": null,
      "outputs": [
        {
          "output_type": "stream",
          "text": [
            "Mounted at /content/drive\n"
          ],
          "name": "stdout"
        }
      ]
    },
    {
      "cell_type": "code",
      "metadata": {
        "colab": {
          "base_uri": "https://localhost:8080/"
        },
        "id": "cWoXQBAk7mhX",
        "outputId": "409223fd-cf66-4639-feaf-6be3b0782d06"
      },
      "source": [
        "# Load SVHN dataset\n",
        "import scipy.io as sio\n",
        "import numpy as np\n",
        "\n",
        "def load_data(path):\n",
        "    data = sio.loadmat(path)\n",
        "    return data['X'], data['y']\n",
        "\n",
        "X_train, y_train = load_data('/content/drive/MyDrive/train_32x32.mat')\n",
        "X_test, y_test   = load_data('/content/drive/MyDrive/test_32x32.mat')\n",
        "\n",
        "\n",
        "# Summarize dataset (count, shape, min/max value)\n",
        "\n",
        "label, count = np.unique(y_train, return_counts=True)\n",
        "print(\"Occurances of labels in training set:\",dict(zip(label, count)))\n",
        "\n",
        "print(\"X_train shape:\", X_train.shape)\n",
        "print(\"y_train shape:\", y_train.shape)\n",
        "print(\"X_test shape:\", X_test.shape)\n",
        "print(\"y_test shape:\", y_test.shape)\n",
        "\n",
        "print('Train X Min: {}, Max: {}'.format(X_train.min(), X_train.max()))\n",
        "print('Train Y Min: {}, Max: {}'.format(y_train.min(), y_train.max()))"
      ],
      "execution_count": null,
      "outputs": [
        {
          "output_type": "stream",
          "text": [
            "Occurances of labels in training set: {1: 13861, 2: 10585, 3: 8497, 4: 7458, 5: 6882, 6: 5727, 7: 5595, 8: 5045, 9: 4659, 10: 4948}\n",
            "X_train shape: (32, 32, 3, 73257)\n",
            "y_train shape: (73257, 1)\n",
            "X_test shape: (32, 32, 3, 26032)\n",
            "y_test shape: (26032, 1)\n",
            "Train X Min: 0, Max: 255\n",
            "Train Y Min: 1, Max: 10\n"
          ],
          "name": "stdout"
        }
      ]
    },
    {
      "cell_type": "code",
      "metadata": {
        "colab": {
          "base_uri": "https://localhost:8080/"
        },
        "id": "3b88IR2tiV3d",
        "outputId": "fe5d37a1-bcfa-4a70-9136-c75f6442f397"
      },
      "source": [
        "#Change input shape\n",
        "X_train = np.moveaxis(X_train, -1, 0)\n",
        "X_test = np.moveaxis(X_test, -1, 0)\n",
        "\n",
        "y_train = y_train.reshape((y_train.shape[0]),)\n",
        "y_test = y_test.reshape((y_test.shape[0]),)\n",
        "\n",
        "print(\"Shapes after fixing axis: \", X_train.shape, X_test.shape)\n",
        "print(\"y_test shape: \", y_train.shape)"
      ],
      "execution_count": null,
      "outputs": [
        {
          "output_type": "stream",
          "text": [
            "Shapes after fixing axis:  (73257, 32, 32, 3) (26032, 32, 32, 3)\n",
            "y_test shape:  (73257,)\n"
          ],
          "name": "stdout"
        }
      ]
    },
    {
      "cell_type": "code",
      "metadata": {
        "colab": {
          "base_uri": "https://localhost:8080/"
        },
        "id": "YawuLMTUFYWc",
        "outputId": "6515c1bb-74c0-40fb-a42a-c0def28ed3d0"
      },
      "source": [
        "# Normalize dataset\n",
        "X_train = X_train.astype('float32')\n",
        "X_test = X_test.astype('float32')\n",
        "\n",
        "X_train /= 255\n",
        "X_test /= 255\n",
        "\n",
        "print('Min: {}, Max: {}'.format(X_train.min(), X_train.max()))"
      ],
      "execution_count": null,
      "outputs": [
        {
          "output_type": "stream",
          "text": [
            "Min: 0.0, Max: 1.0\n"
          ],
          "name": "stdout"
        }
      ]
    },
    {
      "cell_type": "code",
      "metadata": {
        "colab": {
          "base_uri": "https://localhost:8080/",
          "height": 268
        },
        "id": "fSd5ehWzGEpi",
        "outputId": "96d3f970-90fe-4209-adab-a551b7585942"
      },
      "source": [
        "# Visualize some samples\n",
        "from matplotlib import pyplot\n",
        "\n",
        "for i in range(9):\n",
        "\tpyplot.subplot(330 + 1 + i)\n",
        "\tpyplot.imshow(X_train[i], cmap=pyplot.get_cmap('gray'))\n",
        "pyplot.show()\n"
      ],
      "execution_count": null,
      "outputs": [
        {
          "output_type": "display_data",
          "data": {
            "image/png": "[encoded data removed]",
            "text/plain": [
              "<Figure size 432x288 with 9 Axes>"
            ]
          },
          "metadata": {
            "tags": []
          }
        }
      ]
    },
    {
      "cell_type": "code",
      "metadata": {
        "colab": {
          "base_uri": "https://localhost:8080/"
        },
        "id": "EEpAaNVl89mZ",
        "outputId": "29c174bd-96ac-4a43-f48b-a1bf40de398b"
      },
      "source": [
        "# Flatten the data\n",
        "X_train = X_train.reshape(X_train.shape[0], -1)\n",
        "X_test = X_test.reshape(X_test.shape[0],-1)\n",
        "\n",
        "print(X_train.shape)"
      ],
      "execution_count": null,
      "outputs": [
        {
          "output_type": "stream",
          "text": [
            "(73257, 3072)\n"
          ],
          "name": "stdout"
        }
      ]
    },
    {
      "cell_type": "code",
      "metadata": {
        "colab": {
          "base_uri": "https://localhost:8080/"
        },
        "id": "AaDAOhlWZDvu",
        "outputId": "329d1df5-7872-4965-9002-2cae699610f2"
      },
      "source": [
        "# Change values 10 with 0\n",
        "y_train[y_train > 9] = 0\n",
        "y_test[y_test > 9] = 0\n",
        "print('Min: {}, Max: {}'.format(y_train.min(), y_train.max()))"
      ],
      "execution_count": null,
      "outputs": [
        {
          "output_type": "stream",
          "text": [
            "Min: 0, Max: 9\n"
          ],
          "name": "stdout"
        }
      ]
    },
    {
      "cell_type": "markdown",
      "metadata": {
        "id": "l-cMAncVUJKr"
      },
      "source": [
        "#2) Modelling\n",
        "\n"
      ]
    },
    {
      "cell_type": "code",
      "metadata": {
        "colab": {
          "base_uri": "https://localhost:8080/"
        },
        "id": "73Rh1vRUUS4i",
        "outputId": "f94833fe-f123-4ae9-bddc-ae765e9d9868"
      },
      "source": [
        "from keras.models import Sequential\n",
        "from keras.layers import Dense, Flatten\n",
        "from keras.optimizers import Adam, SGD\n",
        "import numpy\n",
        "\n",
        "# Build the model\n",
        "model = Sequential()\n",
        "model.add(Dense(512, activation='relu', name='hidden_layer1', input_shape=(X_train.shape[1],)))\n",
        "model.add(Dense(128, activation='relu', name='hidden_layer2'))\n",
        "model.add(Dense(10, activation='softmax', name='output_layer'))\n",
        "\n",
        "model.summary()"
      ],
      "execution_count": null,
      "outputs": [
        {
          "output_type": "stream",
          "text": [
            "Model: \"sequential_1\"\n",
            "_________________________________________________________________\n",
            "Layer (type)                 Output Shape              Param #   \n",
            "=================================================================\n",
            "hidden_layer1 (Dense)        (None, 512)               1573376   \n",
            "_________________________________________________________________\n",
            "hidden_layer2 (Dense)        (None, 128)               65664     \n",
            "_________________________________________________________________\n",
            "output_layer (Dense)         (None, 10)                1290      \n",
            "=================================================================\n",
            "Total params: 1,640,330\n",
            "Trainable params: 1,640,330\n",
            "Non-trainable params: 0\n",
            "_________________________________________________________________\n"
          ],
          "name": "stdout"
        }
      ]
    },
    {
      "cell_type": "code",
      "metadata": {
        "colab": {
          "background_save": true,
          "base_uri": "https://localhost:8080/"
        },
        "id": "PWjsPZwOUfpZ",
        "outputId": "a1a4c326-c5fd-447a-ae5f-3c225e3872b5"
      },
      "source": [
        "# Compile & fit the model \n",
        "model.compile(loss='sparse_categorical_crossentropy', optimizer=Adam(), metrics=['accuracy'])\n",
        "\n",
        "history = model.fit(X_train, y_train, batch_size=128, epochs=10, validation_split = 0.2, verbose=1)"
      ],
      "execution_count": null,
      "outputs": [
        {
          "output_type": "stream",
          "text": [
            "Epoch 1/10\n",
            "458/458 [==============================] - 5s 4ms/step - loss: 2.3765 - accuracy: 0.1688 - val_loss: 2.2048 - val_accuracy: 0.1872\n",
            "Epoch 2/10\n",
            "458/458 [==============================] - 2s 4ms/step - loss: 2.0495 - accuracy: 0.2788 - val_loss: 1.5189 - val_accuracy: 0.4848\n",
            "Epoch 3/10\n",
            "458/458 [==============================] - 2s 4ms/step - loss: 1.4106 - accuracy: 0.5368 - val_loss: 1.2483 - val_accuracy: 0.6052\n",
            "Epoch 4/10\n",
            "458/458 [==============================] - 2s 4ms/step - loss: 1.1696 - accuracy: 0.6348 - val_loss: 1.1456 - val_accuracy: 0.6499\n",
            "Epoch 5/10\n",
            "458/458 [==============================] - 2s 4ms/step - loss: 1.0891 - accuracy: 0.6650 - val_loss: 1.0539 - val_accuracy: 0.6796\n",
            "Epoch 6/10\n",
            "458/458 [==============================] - 2s 4ms/step - loss: 1.0065 - accuracy: 0.6949 - val_loss: 0.9771 - val_accuracy: 0.7054\n",
            "Epoch 7/10\n",
            "458/458 [==============================] - 2s 4ms/step - loss: 0.9607 - accuracy: 0.7078 - val_loss: 0.9259 - val_accuracy: 0.7218\n",
            "Epoch 8/10\n",
            "458/458 [==============================] - 2s 4ms/step - loss: 0.9301 - accuracy: 0.7174 - val_loss: 0.9174 - val_accuracy: 0.7200\n",
            "Epoch 9/10\n",
            "458/458 [==============================] - 2s 4ms/step - loss: 0.8966 - accuracy: 0.7307 - val_loss: 0.9344 - val_accuracy: 0.7099\n",
            "Epoch 10/10\n",
            "458/458 [==============================] - 2s 4ms/step - loss: 0.8750 - accuracy: 0.7367 - val_loss: 0.9226 - val_accuracy: 0.7164\n"
          ],
          "name": "stdout"
        }
      ]
    },
    {
      "cell_type": "code",
      "metadata": {
        "colab": {
          "base_uri": "https://localhost:8080/"
        },
        "id": "HDtYb9X0UjBl",
        "outputId": "71562422-09f6-4cd2-f46b-93cb3f3793ca"
      },
      "source": [
        "# Evaluate the model on test data\n",
        "\n",
        "score = model.evaluate(X_test, y_test, verbose=1)\n",
        "print('Test loss:', score[0])\n",
        "print('Test accuracy:', score[1])"
      ],
      "execution_count": null,
      "outputs": [
        {
          "output_type": "stream",
          "text": [
            "814/814 [==============================] - 2s 3ms/step - loss: 1.0096 - accuracy: 0.7034\n",
            "Test loss: 1.0095930099487305\n",
            "Test accuracy: 0.7033650875091553\n"
          ],
          "name": "stdout"
        }
      ]
    },
    {
      "cell_type": "code",
      "metadata": {
        "colab": {
          "base_uri": "https://localhost:8080/"
        },
        "id": "4av_KspscNrj",
        "outputId": "90a3f09e-976c-4449-d1be-f739dd203705"
      },
      "source": [
        "!pip install -q -U keras-tuner"
      ],
      "execution_count": null,
      "outputs": [
        {
          "output_type": "stream",
          "text": [
            "\u001b[?25l\r\u001b[K     |█████▏                          | 10kB 21.3MB/s eta 0:00:01\r\u001b[K     |██████████▍                     | 20kB 24.9MB/s eta 0:00:01\r\u001b[K     |███████████████▋                | 30kB 26.8MB/s eta 0:00:01\r\u001b[K     |████████████████████▉           | 40kB 19.4MB/s eta 0:00:01\r\u001b[K     |██████████████████████████      | 51kB 13.6MB/s eta 0:00:01\r\u001b[K     |███████████████████████████████▎| 61kB 12.2MB/s eta 0:00:01\r\u001b[K     |████████████████████████████████| 71kB 5.6MB/s \n",
            "\u001b[?25h  Building wheel for keras-tuner (setup.py) ... \u001b[?25l\u001b[?25hdone\n",
            "  Building wheel for terminaltables (setup.py) ... \u001b[?25l\u001b[?25hdone\n"
          ],
          "name": "stdout"
        }
      ]
    },
    {
      "cell_type": "code",
      "metadata": {
        "colab": {
          "base_uri": "https://localhost:8080/"
        },
        "id": "L_xYleMzeI4P",
        "outputId": "804e9945-3702-48af-941a-4ea0c4fe6d63"
      },
      "source": [
        "# Try different hyperparameters and observe the results\n",
        "\n",
        "import kerastuner as kt\n",
        "from tensorflow import keras\n",
        "\n",
        "def model_builder(hp):\n",
        "  model = keras.Sequential()\n",
        "\n",
        "  hp_units = hp.Choice('n_neurons', values=[64, 128, 512])\n",
        "  model.add(Dense(units=hp_units, name='input_layer',input_shape=(X_train.shape[1],)))\n",
        "  \n",
        "  for i in range(hp.Int(\"n_hidden_layers\",2,3)):\n",
        "    model.add(Dense(units=hp_units, activation='relu', name=f\"hidden_layer{i}\"))\n",
        "\n",
        "  model.add(Dense(10, activation='softmax', name='output_layer'))\n",
        "\n",
        "  hp_learning_rate = hp.Choice('learning_rate', values=[1e-1, 1e-6])\n",
        "\n",
        "  model.compile(optimizer=keras.optimizers.Adam(learning_rate=hp_learning_rate),\n",
        "                loss=keras.losses.SparseCategoricalCrossentropy(from_logits=True),\n",
        "                metrics=['accuracy'])\n",
        "\n",
        "  return model\n",
        "\n",
        "tuner = kt.RandomSearch(\n",
        "                  model_builder,\n",
        "                  objective='val_accuracy',\n",
        "                  max_trials = 10,\n",
        "                  executions_per_trial = 1,\n",
        "                  overwrite=True\n",
        "                  )\n",
        "  \n",
        "\n",
        "tuner.search(X_train, y_train, epochs=10, validation_split=0.2)"
      ],
      "execution_count": null,
      "outputs": [
        {
          "output_type": "stream",
          "text": [
            "Trial 9 Complete [00h 01m 33s]\n",
            "val_accuracy: 0.3362680971622467\n",
            "\n",
            "Best val_accuracy So Far: 0.3886158764362335\n",
            "Total elapsed time: 00h 11m 32s\n",
            "INFO:tensorflow:Oracle triggered exit\n"
          ],
          "name": "stdout"
        }
      ]
    },
    {
      "cell_type": "code",
      "metadata": {
        "colab": {
          "base_uri": "https://localhost:8080/"
        },
        "id": "6TS1b_3pc90e",
        "outputId": "b47850c0-39ee-4248-ad7a-4eb96c5f7fce"
      },
      "source": [
        "# Get the optimal hyperparameters\n",
        "print(tuner.get_best_hyperparameters()[0].values)\n",
        "print(tuner.get_best_models()[0].summary())"
      ],
      "execution_count": null,
      "outputs": [
        {
          "output_type": "stream",
          "text": [
            "{'n_neurons': 512, 'n_hidden_layers': 3, 'learning_rate': 1e-06}\n",
            "Model: \"sequential\"\n",
            "_________________________________________________________________\n",
            "Layer (type)                 Output Shape              Param #   \n",
            "=================================================================\n",
            "input_layer (Dense)          (None, 512)               1573376   \n",
            "_________________________________________________________________\n",
            "hidden_layer0 (Dense)        (None, 512)               262656    \n",
            "_________________________________________________________________\n",
            "hidden_layer1 (Dense)        (None, 512)               262656    \n",
            "_________________________________________________________________\n",
            "hidden_layer2 (Dense)        (None, 512)               262656    \n",
            "_________________________________________________________________\n",
            "output_layer (Dense)         (None, 10)                5130      \n",
            "=================================================================\n",
            "Total params: 2,366,474\n",
            "Trainable params: 2,366,474\n",
            "Non-trainable params: 0\n",
            "_________________________________________________________________\n",
            "WARNING:tensorflow:Unresolved object in checkpoint: (root).optimizer.iter\n",
            "WARNING:tensorflow:Unresolved object in checkpoint: (root).optimizer.beta_1\n",
            "WARNING:tensorflow:Unresolved object in checkpoint: (root).optimizer.beta_2\n",
            "WARNING:tensorflow:Unresolved object in checkpoint: (root).optimizer.decay\n",
            "WARNING:tensorflow:Unresolved object in checkpoint: (root).optimizer.learning_rate\n",
            "WARNING:tensorflow:A checkpoint was restored (e.g. tf.train.Checkpoint.restore or tf.keras.Model.load_weights) but not all checkpointed values were used. See above for specific issues. Use expect_partial() on the load status object, e.g. tf.train.Checkpoint.restore(...).expect_partial(), to silence these warnings, or use assert_consumed() to make the check explicit. See https://www.tensorflow.org/guide/checkpoint#loading_mechanics for details.\n",
            "None\n"
          ],
          "name": "stdout"
        }
      ]
    },
    {
      "cell_type": "code",
      "metadata": {
        "id": "V-XH_Ygebl27"
      },
      "source": [
        "# Try with 50 epochs\n",
        "tuner2 = kt.RandomSearch(\n",
        "                  model_builder,\n",
        "                  objective='val_accuracy',\n",
        "                  max_trials = 10,\n",
        "                  executions_per_trial = 1,\n",
        "                  overwrite=True\n",
        "                  )\n",
        "  \n",
        "\n",
        "tuner2.search(X_train, y_train, epochs=10, validation_split=0.2)"
      ],
      "execution_count": null,
      "outputs": []
    },
    {
      "cell_type": "code",
      "metadata": {
        "id": "MhTBQVYdbp_V"
      },
      "source": [
        "# Get the optimal hyperparameters\n",
        "print(tuner2.get_best_hyperparameters()[0].values)\n",
        "print(tuner2.get_best_models()[0].summary())"
      ],
      "execution_count": null,
      "outputs": []
    },
    {
      "cell_type": "code",
      "metadata": {
        "colab": {
          "base_uri": "https://localhost:8080/"
        },
        "id": "RRZpQ4ZmXPVd",
        "outputId": "9bf5f2de-4ae1-4629-c443-6e5da279ab85"
      },
      "source": [
        "#Try adding dropout to the architecture \n",
        "from keras.layers import Dropout\n",
        "\n",
        "model = Sequential()\n",
        "model.add(Dense(512, activation='relu', name='hidden_layer1', input_shape=(X_train.shape[1],)))\n",
        "model.add(Dropout(0.2))\n",
        "model.add(Dense(128, activation='relu', name='hidden_layer2'))\n",
        "model.add(Dense(10, activation='softmax', name='output_layer'))\n",
        "\n",
        "# Compile & fit the model \n",
        "model.compile(loss='sparse_categorical_crossentropy', optimizer=Adam(), metrics=['accuracy'])\n",
        "\n",
        "# Hint: You can assign batch sizes 128, 256\n",
        "history = model.fit(X_train, y_train, batch_size=128, epochs=10, validation_split = 0.2, verbose=1)"
      ],
      "execution_count": null,
      "outputs": [
        {
          "output_type": "stream",
          "text": [
            "Epoch 1/10\n",
            "458/458 [==============================] - 3s 6ms/step - loss: 2.3109 - accuracy: 0.1711 - val_loss: 2.1366 - val_accuracy: 0.1885\n",
            "Epoch 2/10\n",
            "458/458 [==============================] - 3s 6ms/step - loss: 2.0685 - accuracy: 0.2547 - val_loss: 1.7913 - val_accuracy: 0.4042\n",
            "Epoch 3/10\n",
            "458/458 [==============================] - 3s 6ms/step - loss: 1.8152 - accuracy: 0.3569 - val_loss: 1.6214 - val_accuracy: 0.4599\n",
            "Epoch 4/10\n",
            "458/458 [==============================] - 3s 6ms/step - loss: 1.7075 - accuracy: 0.4047 - val_loss: 1.5722 - val_accuracy: 0.4790\n",
            "Epoch 5/10\n",
            "458/458 [==============================] - 3s 6ms/step - loss: 1.6198 - accuracy: 0.4451 - val_loss: 1.4291 - val_accuracy: 0.5332\n",
            "Epoch 6/10\n",
            "458/458 [==============================] - 3s 6ms/step - loss: 1.5664 - accuracy: 0.4706 - val_loss: 1.3905 - val_accuracy: 0.5629\n",
            "Epoch 7/10\n",
            "458/458 [==============================] - 3s 6ms/step - loss: 1.5228 - accuracy: 0.4862 - val_loss: 1.3529 - val_accuracy: 0.5790\n",
            "Epoch 8/10\n",
            "458/458 [==============================] - 3s 6ms/step - loss: 1.4762 - accuracy: 0.5100 - val_loss: 1.2461 - val_accuracy: 0.6177\n",
            "Epoch 9/10\n",
            "458/458 [==============================] - 3s 6ms/step - loss: 1.4340 - accuracy: 0.5251 - val_loss: 1.2367 - val_accuracy: 0.6186\n",
            "Epoch 10/10\n",
            "458/458 [==============================] - 3s 6ms/step - loss: 1.4107 - accuracy: 0.5362 - val_loss: 1.2255 - val_accuracy: 0.6217\n"
          ],
          "name": "stdout"
        }
      ]
    },
    {
      "cell_type": "code",
      "metadata": {
        "colab": {
          "base_uri": "https://localhost:8080/"
        },
        "id": "mt54HfYbePgu",
        "outputId": "7e3966b3-c81b-4424-9c19-a58833afb6df"
      },
      "source": [
        "# Evaluate the model on test data\n",
        "score = model.evaluate(X_test, y_test, verbose=1)\n",
        "print('Test loss:', score[0])\n",
        "print('Test accuracy:', score[1])"
      ],
      "execution_count": null,
      "outputs": [
        {
          "output_type": "stream",
          "text": [
            "814/814 [==============================] - 2s 3ms/step - loss: 1.3280 - accuracy: 0.5878\n",
            "Test loss: 1.3279560804367065\n",
            "Test accuracy: 0.5877766013145447\n"
          ],
          "name": "stdout"
        }
      ]
    },
    {
      "cell_type": "code",
      "metadata": {
        "colab": {
          "base_uri": "https://localhost:8080/"
        },
        "id": "CKu4TRlFgcdm",
        "outputId": "2f300928-1139-4420-e9a5-fd9a314eec98"
      },
      "source": [
        "# Build & compile the model\n",
        "best_model = tuner.get_best_models()[0]\n",
        "print(best_model.summary())"
      ],
      "execution_count": null,
      "outputs": [
        {
          "output_type": "stream",
          "text": [
            "Model: \"sequential\"\n",
            "_________________________________________________________________\n",
            "Layer (type)                 Output Shape              Param #   \n",
            "=================================================================\n",
            "input_layer (Dense)          (None, 512)               1573376   \n",
            "_________________________________________________________________\n",
            "hidden_layer0 (Dense)        (None, 512)               262656    \n",
            "_________________________________________________________________\n",
            "hidden_layer1 (Dense)        (None, 512)               262656    \n",
            "_________________________________________________________________\n",
            "hidden_layer2 (Dense)        (None, 512)               262656    \n",
            "_________________________________________________________________\n",
            "output_layer (Dense)         (None, 10)                5130      \n",
            "=================================================================\n",
            "Total params: 2,366,474\n",
            "Trainable params: 2,366,474\n",
            "Non-trainable params: 0\n",
            "_________________________________________________________________\n",
            "None\n"
          ],
          "name": "stdout"
        }
      ]
    },
    {
      "cell_type": "code",
      "metadata": {
        "colab": {
          "base_uri": "https://localhost:8080/"
        },
        "id": "T0nPbz5AVOFG",
        "outputId": "d39d2883-d7fe-4ce6-d100-c2cf0d43cc00"
      },
      "source": [
        "# Aim is to stop when minimum validation loss is achieved\n",
        "from tensorflow.keras.callbacks import EarlyStopping\n",
        "\n",
        "es = EarlyStopping(monitor='val_loss', patience=5, verbose=1, mode='min',restore_best_weights=True) # Training will stop when minimum validation loss is achieved\n",
        "\n",
        "best_model.fit(X_train, y_train, batch_size=128, epochs=1000, validation_split = 0.2, callbacks=[es], verbose=1)"
      ],
      "execution_count": null,
      "outputs": [
        {
          "output_type": "stream",
          "text": [
            "Epoch 1/1000\n",
            "458/458 [==============================] - 3s 7ms/step - loss: 0.5659 - accuracy: 0.8354 - val_loss: 0.6604 - val_accuracy: 0.8071\n",
            "Epoch 2/1000\n",
            "458/458 [==============================] - 3s 7ms/step - loss: 0.5655 - accuracy: 0.8355 - val_loss: 0.6600 - val_accuracy: 0.8075\n",
            "Epoch 3/1000\n",
            "458/458 [==============================] - 3s 7ms/step - loss: 0.5646 - accuracy: 0.8358 - val_loss: 0.6578 - val_accuracy: 0.8079\n",
            "Epoch 4/1000\n",
            "458/458 [==============================] - 3s 7ms/step - loss: 0.5637 - accuracy: 0.8356 - val_loss: 0.6590 - val_accuracy: 0.8083\n",
            "Epoch 5/1000\n",
            "458/458 [==============================] - 3s 7ms/step - loss: 0.5631 - accuracy: 0.8364 - val_loss: 0.6585 - val_accuracy: 0.8084\n",
            "Epoch 6/1000\n",
            "458/458 [==============================] - 3s 7ms/step - loss: 0.5627 - accuracy: 0.8357 - val_loss: 0.6582 - val_accuracy: 0.8080\n",
            "Epoch 7/1000\n",
            "458/458 [==============================] - 3s 7ms/step - loss: 0.5621 - accuracy: 0.8364 - val_loss: 0.6588 - val_accuracy: 0.8092\n",
            "Epoch 8/1000\n",
            "458/458 [==============================] - 3s 7ms/step - loss: 0.5621 - accuracy: 0.8362 - val_loss: 0.6575 - val_accuracy: 0.8088\n",
            "Epoch 9/1000\n",
            "458/458 [==============================] - 3s 7ms/step - loss: 0.5613 - accuracy: 0.8366 - val_loss: 0.6567 - val_accuracy: 0.8092\n",
            "Epoch 10/1000\n",
            "458/458 [==============================] - 3s 7ms/step - loss: 0.5609 - accuracy: 0.8362 - val_loss: 0.6562 - val_accuracy: 0.8085\n",
            "Epoch 11/1000\n",
            "458/458 [==============================] - 3s 7ms/step - loss: 0.5608 - accuracy: 0.8365 - val_loss: 0.6574 - val_accuracy: 0.8069\n",
            "Epoch 12/1000\n",
            "458/458 [==============================] - 3s 7ms/step - loss: 0.5602 - accuracy: 0.8370 - val_loss: 0.6567 - val_accuracy: 0.8088\n",
            "Epoch 13/1000\n",
            "458/458 [==============================] - 3s 7ms/step - loss: 0.5599 - accuracy: 0.8371 - val_loss: 0.6541 - val_accuracy: 0.8103\n",
            "Epoch 14/1000\n",
            "458/458 [==============================] - 3s 7ms/step - loss: 0.5591 - accuracy: 0.8369 - val_loss: 0.6544 - val_accuracy: 0.8096\n",
            "Epoch 15/1000\n",
            "458/458 [==============================] - 3s 7ms/step - loss: 0.5591 - accuracy: 0.8373 - val_loss: 0.6562 - val_accuracy: 0.8094\n",
            "Epoch 16/1000\n",
            "458/458 [==============================] - 3s 7ms/step - loss: 0.5583 - accuracy: 0.8374 - val_loss: 0.6542 - val_accuracy: 0.8083\n",
            "Epoch 17/1000\n",
            "458/458 [==============================] - 3s 7ms/step - loss: 0.5581 - accuracy: 0.8378 - val_loss: 0.6543 - val_accuracy: 0.8099\n",
            "Epoch 18/1000\n",
            "458/458 [==============================] - 3s 7ms/step - loss: 0.5577 - accuracy: 0.8376 - val_loss: 0.6544 - val_accuracy: 0.8105\n",
            "Restoring model weights from the end of the best epoch.\n",
            "Epoch 00018: early stopping\n"
          ],
          "name": "stdout"
        },
        {
          "output_type": "execute_result",
          "data": {
            "text/plain": [
              "<tensorflow.python.keras.callbacks.History at 0x7fb9c670bb50>"
            ]
          },
          "metadata": {
            "tags": []
          },
          "execution_count": 24
        }
      ]
    },
    {
      "cell_type": "code",
      "metadata": {
        "colab": {
          "base_uri": "https://localhost:8080/",
          "height": 295
        },
        "id": "gnfijwFjePc6",
        "outputId": "05214bad-da53-4ada-9789-a53b7dc27ab8"
      },
      "source": [
        "#Plot train & validation loss\n",
        "from matplotlib import pyplot as plt\n",
        "\n",
        "plt.plot(best_model.history.history['loss'])\n",
        "plt.plot(best_model.history.history['val_loss'])\n",
        "plt.title('model loss')\n",
        "plt.ylabel('loss')\n",
        "plt.xlabel('epoch')\n",
        "plt.legend(['train', 'test'], loc='upper left')\n",
        "plt.show()"
      ],
      "execution_count": null,
      "outputs": [
        {
          "output_type": "display_data",
          "data": {
            "image/png": "[encoded data removed]",
            "text/plain": [
              "<Figure size 432x288 with 1 Axes>"
            ]
          },
          "metadata": {
            "tags": []
          }
        }
      ]
    },
    {
      "cell_type": "code",
      "metadata": {
        "colab": {
          "base_uri": "https://localhost:8080/"
        },
        "id": "IoBW8oIBgZfU",
        "outputId": "7882dd8b-5baf-490b-f91c-a654d18a6279"
      },
      "source": [
        "#Evaluate on test data\n",
        "score = best_model.evaluate(X_test, y_test, verbose=1)\n",
        "print('Test loss:', score[0])\n",
        "print('Test accuracy:', score[1])"
      ],
      "execution_count": null,
      "outputs": [
        {
          "output_type": "stream",
          "text": [
            "814/814 [==============================] - 2s 3ms/step - loss: 0.7513 - accuracy: 0.7865\n",
            "Test loss: 0.7513005137443542\n",
            "Test accuracy: 0.7864551544189453\n"
          ],
          "name": "stdout"
        }
      ]
    }
  ]
}